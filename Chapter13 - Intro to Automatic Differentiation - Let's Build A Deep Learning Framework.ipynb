{
 "cells": [
  {
   "cell_type": "markdown",
   "metadata": {},
   "source": [
    "# Part 1: Introduction to Tensors"
   ]
  },
  {
   "cell_type": "code",
   "execution_count": 1,
   "metadata": {},
   "outputs": [
    {
     "ename": "UndefVarError",
     "evalue": "UndefVarError: Tensor not defined",
     "output_type": "error",
     "traceback": [
      "UndefVarError: Tensor not defined",
      "",
      "Stacktrace:",
      " [1] top-level scope at In[1]:7"
     ]
    }
   ],
   "source": [
    "import Base:println,+\n",
    "\n",
    "mutable struct Tensor\n",
    "    data :: Array\n",
    "end\n",
    "\n",
    "+(a::Tensor, b::Tensor) = a.data + b.data\n",
    "\n",
    "println(t::Tensor) = println(t.data)\n",
    "    \n",
    "x = Tensor([1,2,3,4,5])\n",
    "print(x)\n",
    "\n",
    "y = x + x\n",
    "print(y)"
   ]
  },
  {
   "cell_type": "markdown",
   "metadata": {},
   "source": [
    "# Part 2: Introduction to Autograd"
   ]
  },
  {
   "cell_type": "code",
   "execution_count": 2,
   "metadata": {},
   "outputs": [],
   "source": [
    "import Base:println,+\n",
    "\n",
    "mutable struct Tensor\n",
    "    data :: Array\n",
    "    creators\n",
    "    creation_op\n",
    "    grad \n",
    "    Tensor(data; creators=nothing, creation_op = nothing) = \n",
    "    new(data, creators, creation_op)\n",
    "end\n",
    "\n",
    "function backward(t::Tensor, grad)\n",
    "    t.grad = grad\n",
    "    \n",
    "    if t.creation_op == \"add\"\n",
    "        backward(t.creators[1], grad)\n",
    "        backward(t.creators[2], grad)\n",
    "    end\n",
    "end\n",
    "\n",
    "+(a::Tensor, b::Tensor) = Tensor(a.data + b.data; creators=[a,b], creation_op=\"add\")\n",
    "println(t::Tensor) = println(t.data)\n",
    "println(t::Array{Tensor,1}) = println([i.data for i in t])\n",
    "    \n",
    "x = Tensor([1,2,3,4,5])\n",
    "y = Tensor([2,2,2,2,2])\n",
    "\n",
    "z = x + y\n",
    "backward(z, Tensor([1,1,1,1,1]))"
   ]
  },
  {
   "cell_type": "code",
   "execution_count": 18,
   "metadata": {},
   "outputs": [
    {
     "name": "stdout",
     "output_type": "stream",
     "text": [
      "[1, 1, 1, 1, 1]\n",
      "[1, 1, 1, 1, 1]\n",
      "[[1, 2, 3, 4, 5], [2, 2, 2, 2, 2]]\n",
      "add\n"
     ]
    }
   ],
   "source": [
    "println(x.grad)\n",
    "println(y.grad)\n",
    "println(z.creators)\n",
    "println(z.creation_op)"
   ]
  },
  {
   "cell_type": "code",
   "execution_count": 19,
   "metadata": {},
   "outputs": [
    {
     "name": "stdout",
     "output_type": "stream",
     "text": [
      "[1, 1, 1, 1, 1]\n"
     ]
    }
   ],
   "source": [
    "a = Tensor([1,2,3,4,5])\n",
    "b = Tensor([2,2,2,2,2])\n",
    "c = Tensor([5,4,3,2,1])\n",
    "d = Tensor([-1,-2,-3,-4,-5])\n",
    "\n",
    "e = a + b\n",
    "f = c + d\n",
    "g = e + f\n",
    "\n",
    "backward(g, Tensor([1,1,1,1,1]))\n",
    "\n",
    "println(a.grad)"
   ]
  },
  {
   "cell_type": "markdown",
   "metadata": {},
   "source": [
    "# Part 3: Tensors That Are Used Multiple Times"
   ]
  },
  {
   "cell_type": "code",
   "execution_count": 20,
   "metadata": {},
   "outputs": [
    {
     "data": {
      "text/plain": [
       "false"
      ]
     },
     "execution_count": 20,
     "metadata": {},
     "output_type": "execute_result"
    }
   ],
   "source": [
    "a = Tensor([1,2,3,4,5])\n",
    "b = Tensor([2,2,2,2,2])\n",
    "c = Tensor([5,4,3,2,1])\n",
    "\n",
    "d = a + b\n",
    "e = b + c\n",
    "f = d + e\n",
    "backward(f, Tensor([1,1,1,1,1]))\n",
    "\n",
    "b.grad.data == [2,2,2,2,2]"
   ]
  },
  {
   "cell_type": "code",
   "execution_count": 21,
   "metadata": {},
   "outputs": [
    {
     "data": {
      "text/plain": [
       "5-element Array{Int64,1}:\n",
       " 1\n",
       " 1\n",
       " 1\n",
       " 1\n",
       " 1"
      ]
     },
     "execution_count": 21,
     "metadata": {},
     "output_type": "execute_result"
    }
   ],
   "source": [
    "b.grad.data"
   ]
  },
  {
   "cell_type": "code",
   "execution_count": null,
   "metadata": {},
   "outputs": [],
   "source": []
  }
 ],
 "metadata": {
  "kernelspec": {
   "display_name": "Julia 1.4.0",
   "language": "julia",
   "name": "julia-1.4"
  },
  "language_info": {
   "file_extension": ".jl",
   "mimetype": "application/julia",
   "name": "julia",
   "version": "1.4.0"
  }
 },
 "nbformat": 4,
 "nbformat_minor": 2
}
