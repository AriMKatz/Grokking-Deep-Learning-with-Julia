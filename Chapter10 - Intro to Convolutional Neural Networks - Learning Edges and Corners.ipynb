{
 "cells": [
  {
   "cell_type": "code",
   "execution_count": null,
   "metadata": {
    "scrolled": true
   },
   "outputs": [],
   "source": [
    "using MLDatasets\n",
    "train_x, train_y = MNIST.traindata()\n",
    "test_x,  test_y  = MNIST.testdata();\n",
    "\n",
    "(images, labels) = (train_x[:,:,1:1000], train_y[1:1000])\n",
    "one_hot_labels = zeros(10,length(labels))\n",
    "for (i,l) in enumerate(labels)\n",
    "    one_hot_labels[l+1, i] = 1.0\n",
    "end\n",
    "labels = one_hot_labels\n",
    "\n",
    "# test_images = reshape(test_x, (28*28, size(test_x,3)))\n",
    "test_labels = zeros((10, size(test_x,3)))\n",
    "\n",
    "for (i,l) in enumerate(test_y)\n",
    "    test_labels[l+1, i] = 1.0\n",
    "end\n",
    "\n",
    "using Random\n",
    "Random.seed!(1)\n",
    "\n",
    "tanh2deriv(output) = 1 - output^2\n",
    "\n",
    "function softmax(x)\n",
    "    temp = exp.(x)\n",
    "    return temp ./ sum(temp, dims=1)\n",
    "end\n",
    "\n",
    "alpha, iterations = (2, 300)\n",
    "pixels_per_image, num_labels = (784, 10)\n",
    "batch_size = 128\n",
    "\n",
    "input_rows = 28\n",
    "input_cols = 28\n",
    "\n",
    "kernel_rows = 3\n",
    "kernel_cols = 3\n",
    "num_kernels = 16\n",
    "\n",
    "hidden_size = ((input_rows - kernel_rows) * \n",
    "               (input_cols - kernel_cols)) * num_kernels\n",
    "\n",
    "kernels = 0.02 .* rand(num_kernels, kernel_rows*kernel_cols) .- 0.01\n",
    "weights_1_2 = 0.2 .* rand(num_labels, hidden_size) .- 0.1\n",
    "\n",
    "function get_image_section(layer,row_from, row_to, col_from, col_to)\n",
    "    section = layer[row_from:row_to,col_from:col_to, :]\n",
    "    return reshape(section, (row_to-row_from+1, col_to-col_from+1, 1, :))\n",
    "end\n",
    "\n",
    "for j=1:iterations\n",
    "    Correct_cnt = 0\n",
    "    for i = 1:batch_size:size(images, 3)-batch_size\n",
    "        \n",
    "        batch_start, batch_end = i, i+batch_size-1\n",
    "        layer_0 = images[:,:, batch_start:batch_end]\n",
    "        \n",
    "        sects = []\n",
    "        for row_start=1:size(layer_0, 1)-kernel_rows\n",
    "            for col_start=1:size(layer_0, 2) - kernel_cols\n",
    "                sect = get_image_section(layer_0,row_start, row_start+kernel_rows-1, col_start, col_start+kernel_cols-1)\n",
    "                push!(sects, sect)\n",
    "            end\n",
    "        end\n",
    "        expanded_input = cat(sects...,dims=3)\n",
    "        es = size(expanded_input)\n",
    "        flattened_input = reshape(expanded_input, (:, es[3]*es[4]))\n",
    "        kernel_output = kernels * flattened_input\n",
    "        layer_1 = tanh.(reshape(kernel_output, (:, size(expanded_input, 4))))\n",
    "        \n",
    "        dropout_mask = bitrand(size(layer_1))\n",
    "        layer_1 .*= dropout_mask .* 2\n",
    "        layer_2 = softmax(weights_1_2 * layer_1)\n",
    "        \n",
    "        for k=1:batch_size\n",
    "            Correct_cnt += Int(argmax(layer_2[:,k]) == argmax(labels[:, batch_start+k-1]))\n",
    "        end\n",
    "        \n",
    "        layer_2_delta = (labels[:, batch_start:batch_end] .- layer_2) ./ (batch_size * size(layer_2, 2))\n",
    "        layer_1_delta = (weights_1_2' * layer_2_delta) .* tanh2deriv.(layer_1)\n",
    "        layer_1_delta .*= dropout_mask\n",
    "        weights_1_2 .+= alpha .* layer_2_delta * layer_1_delta'\n",
    "        l1d_reshape = reshape(layer_1_delta, size(kernel_output))\n",
    "        k_update = l1d_reshape * flattened_input'\n",
    "        kernels .-= alpha .* k_update\n",
    "    end\n",
    "    \n",
    "    test_correct_cnt = 0\n",
    "    \n",
    "    for i=1:size(test_x, 3)\n",
    "        layer_0 = test_x[:,:, i]\n",
    "        sects = []\n",
    "        for row_start=1:size(layer_0, 1)-kernel_rows\n",
    "            for col_start=1:size(layer_0, 2) - kernel_cols\n",
    "                sect = get_image_section(layer_0,row_start, row_start+kernel_rows-1, col_start, col_start+kernel_cols-1)\n",
    "                push!(sects, sect)\n",
    "            end\n",
    "        end\n",
    "        expanded_input = cat(sects...,dims=3)\n",
    "        es = size(expanded_input)\n",
    "        flattened_input = reshape(expanded_input, (:, es[3]*es[4]))\n",
    "        kernel_output = kernels * flattened_input\n",
    "        layer_1 = tanh.(reshape(kernel_output, (:, size(expanded_input, 4))))\n",
    "        \n",
    "        dropout_mask = bitrand(size(layer_1))\n",
    "        layer_1 .*= dropout_mask .* 2\n",
    "        layer_2 = weights_1_2 * layer_1\n",
    "        test_correct_cnt += Int(argmax(layer_2) == argmax(test_labels[:, i]))\n",
    "    end \n",
    "    if (j%1 == 0)\n",
    "        println(\"I: $(j) Train accuracy: $(Correct_cnt/size(images, 3)) Test-Acc:: $(test_correct_cnt/size(test_images, 3))\")\n",
    "    end             \n",
    "end"
   ]
  },
  {
   "cell_type": "code",
   "execution_count": null,
   "metadata": {
    "scrolled": true
   },
   "outputs": [],
   "source": [
    "l1d_reshape = reshape(layer_1_delta, size(kernel_output))"
   ]
  },
  {
   "cell_type": "code",
   "execution_count": null,
   "metadata": {},
   "outputs": [],
   "source": [
    "size(l1d_reshape * flattened_input')"
   ]
  },
  {
   "cell_type": "code",
   "execution_count": null,
   "metadata": {},
   "outputs": [],
   "source": [
    "size(test_x)"
   ]
  },
  {
   "cell_type": "code",
   "execution_count": null,
   "metadata": {},
   "outputs": [],
   "source": [
    "a = rand(3,3,2)"
   ]
  },
  {
   "cell_type": "code",
   "execution_count": null,
   "metadata": {},
   "outputs": [],
   "source": [
    "reshape(a, (3,3,1,:))"
   ]
  },
  {
   "cell_type": "code",
   "execution_count": null,
   "metadata": {},
   "outputs": [],
   "source": [
    "size(test_x)"
   ]
  },
  {
   "cell_type": "code",
   "execution_count": null,
   "metadata": {
    "scrolled": true
   },
   "outputs": [],
   "source": [
    "b = get_image_section(images[:,:,1:100], 1,10,1,10)"
   ]
  },
  {
   "cell_type": "code",
   "execution_count": null,
   "metadata": {},
   "outputs": [],
   "source": [
    "size(kernel_output)"
   ]
  },
  {
   "cell_type": "code",
   "execution_count": null,
   "metadata": {
    "scrolled": true
   },
   "outputs": [],
   "source": [
    "a = sects[1]\n",
    "b = sects[2]"
   ]
  },
  {
   "cell_type": "code",
   "execution_count": null,
   "metadata": {},
   "outputs": [],
   "source": [
    "size(a)"
   ]
  },
  {
   "cell_type": "code",
   "execution_count": null,
   "metadata": {},
   "outputs": [],
   "source": [
    "size(cat(sects...,dims=3))"
   ]
  },
  {
   "cell_type": "code",
   "execution_count": null,
   "metadata": {
    "scrolled": true
   },
   "outputs": [],
   "source": [
    "expanded_input = cat(sects...,dims=3)\n",
    "flattened_input = reshape(expanded_input, (:, size(expanded_input, 3)*size(expanded_input, 4)))"
   ]
  },
  {
   "cell_type": "code",
   "execution_count": null,
   "metadata": {},
   "outputs": [],
   "source": [
    "size(kernels)"
   ]
  },
  {
   "cell_type": "code",
   "execution_count": null,
   "metadata": {
    "scrolled": true
   },
   "outputs": [],
   "source": [
    "kernel_output = kernels * flattened_input"
   ]
  },
  {
   "cell_type": "code",
   "execution_count": null,
   "metadata": {
    "scrolled": true
   },
   "outputs": [],
   "source": [
    "layer_1 = tanh.(reshape(kernel_output, (:, size(expanded_input, 4))))"
   ]
  },
  {
   "cell_type": "code",
   "execution_count": null,
   "metadata": {},
   "outputs": [],
   "source": [
    "layer_2 = weights_1_2 * layer_1"
   ]
  },
  {
   "cell_type": "code",
   "execution_count": null,
   "metadata": {},
   "outputs": [],
   "source": [
    "layer_1 .*= dropout_mask .* 2"
   ]
  },
  {
   "cell_type": "code",
   "execution_count": null,
   "metadata": {
    "scrolled": true
   },
   "outputs": [],
   "source": [
    "dropout_mask = bitrand(size(layer_1))"
   ]
  },
  {
   "cell_type": "code",
   "execution_count": null,
   "metadata": {},
   "outputs": [],
   "source": [
    "layer_2 = softmax1(layer_2)"
   ]
  },
  {
   "cell_type": "code",
   "execution_count": null,
   "metadata": {},
   "outputs": [],
   "source": [
    "layer_2[:,1]|>sum"
   ]
  },
  {
   "cell_type": "code",
   "execution_count": null,
   "metadata": {},
   "outputs": [],
   "source": [
    "function softmax1(x)\n",
    "    temp = exp.(x)\n",
    "    return temp ./ sum(temp, dims=1)\n",
    "end"
   ]
  },
  {
   "cell_type": "code",
   "execution_count": null,
   "metadata": {},
   "outputs": [],
   "source": [
    "for k in range(batch_size):\n",
    "            labelset = labels[batch_start+k:batch_start+k+1]\n",
    "            _inc = int(np.argmax(layer_2[k:k+1]) == \n",
    "                               np.argmax(labelset))\n",
    "            correct_cnt += _inc"
   ]
  },
  {
   "cell_type": "code",
   "execution_count": null,
   "metadata": {},
   "outputs": [],
   "source": [
    "size(layer_2_delta * layer_1_delta' )"
   ]
  },
  {
   "cell_type": "code",
   "execution_count": null,
   "metadata": {},
   "outputs": [],
   "source": [
    "layer_1_delta = weights_1_2' * layer_2_delta;"
   ]
  },
  {
   "cell_type": "code",
   "execution_count": null,
   "metadata": {},
   "outputs": [],
   "source": [
    "layer_2_delta = (labels[:, 1:128] .- layer_2) ./ (batch_size * size(layer_2, 2))"
   ]
  },
  {
   "cell_type": "code",
   "execution_count": null,
   "metadata": {},
   "outputs": [],
   "source": [
    "size(weights_1_2)"
   ]
  },
  {
   "cell_type": "code",
   "execution_count": null,
   "metadata": {},
   "outputs": [],
   "source": []
  }
 ],
 "metadata": {
  "kernelspec": {
   "display_name": "Julia 1.4.0",
   "language": "julia",
   "name": "julia-1.4"
  },
  "language_info": {
   "file_extension": ".jl",
   "mimetype": "application/julia",
   "name": "julia",
   "version": "1.4.0"
  }
 },
 "nbformat": 4,
 "nbformat_minor": 2
}
