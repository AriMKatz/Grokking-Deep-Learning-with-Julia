{
 "cells": [
  {
   "cell_type": "markdown",
   "metadata": {},
   "source": [
    "# 3 Layer Network on MNIST"
   ]
  },
  {
   "cell_type": "code",
   "execution_count": null,
   "metadata": {},
   "outputs": [],
   "source": [
    "using MLDatasets\n",
    "train_x, train_y = MNIST.traindata()\n",
    "test_x,  test_y  = MNIST.testdata();"
   ]
  },
  {
   "cell_type": "code",
   "execution_count": null,
   "metadata": {},
   "outputs": [],
   "source": [
    "(images, labels) = (reshape(train_x[:,:,1:1000], (1000, 28*28)) ./ 255.0, train_y[1:1000])\n",
    "one_hot_labels = zeros(length(labels), 10)\n",
    "for (i,l) in enumerate(labels)\n",
    "    one_hot_labels[i,l+1] = 1.0\n",
    "end\n",
    "labels = one_hot_labels\n",
    "\n",
    "test_images = reshape(test_x, (size(test_x)[end], 28*28)) ./ 255.0\n",
    "test_labels = zeros((length(test_y),10))\n",
    "\n",
    "for (i,l) in enumerate(test_y)\n",
    "    test_labels[i,l+1] = 1.0\n",
    "end\n",
    "\n",
    "using Random\n",
    "Random.seed!(1)\n",
    "\n",
    "\n",
    "relu(x) = x > 0 ? x : 0\n",
    "relu2deriv(x) = x > 0 ? 1 : 0\n",
    "\n",
    "alpha, iterations, hidden_size, pixels_per_image, num_labels = (0.005, 350, 40, 784, 10)\n",
    "\n",
    "weights_0_1 = 0.2 .* rand(pixels_per_image,hidden_size) .- 0.1\n",
    "weights_1_2 = 0.2 .* rand(hidden_size,num_labels) .- 0.1\n",
    "\n",
    "for j = 1:iterations\n",
    "    Error, Correct_cnt = (0.0, 0)\n",
    "    for i = 1:size(images)[1]\n",
    "        layer_0 = images[i,:]\n",
    "        layer_1 = relu.(layer_0' * weights_0_1)\n",
    "        layer_2 = layer_1 * weights_1_2\n",
    "\n",
    "        Error += sum((labels[i,:]' .- layer_2) .^ 2)\n",
    "        Correct_cnt += Int(argmax(layer_2) == argmax(labels[i,:]'))\n",
    "\n",
    "        layer_2_delta = (labels[i]' .- layer_2)\n",
    "        layer_1_delta = (layer_2_delta * weights_1_2') .* relu2deriv.(layer_1)\n",
    "        weights_1_2 += alpha .* layer_1' * layer_2_delta\n",
    "        weights_0_1 += alpha .* layer_0 * layer_1_delta\n",
    "    end\n",
    "    print(\"Train error: $(Error/size(images)[1])% Train accuracy: $(Correct_cnt/size(images)[1])   \\r\")\n",
    "end\n",
    "        "
   ]
  },
  {
   "cell_type": "code",
   "execution_count": null,
   "metadata": {},
   "outputs": [],
   "source": [
    "if(j % 10 == 0 or j == iterations)\n",
    "    Error, Correct_cnt = (0.0, 0)\n",
    "\n",
    "    for i = 1:size(test_images)[1]\n",
    "        \n",
    "        layer_0 = test_images[i,:]\n",
    "        layer_1 = relu.(layer_0' * weights_0_1)\n",
    "        layer_2 = layer_1 * weights_1_2\n",
    "        \n",
    "        Error += sum((test_labels[i,:]' .- layer_2) .^ 2)\n",
    "        Correct_cnt += Int(argmax(layer_2) == argmax(test_labels[i,:]'))\n",
    "\n",
    "\n",
    "    end\n",
    "    print(\"Test-Err:: $(Error/size(test_images)[1])% Test-Acc:: $(Correct_cnt/size(test_images)[1])   \\r\")\n",
    "end"
   ]
  },
  {
   "cell_type": "code",
   "execution_count": null,
   "metadata": {},
   "outputs": [],
   "source": [
    "(images, labels) = (reshape(train_x[:,:,1:1000], (1000, 28*28)) ./ 255.0, train_y[1:1000])\n",
    "one_hot_labels = zeros(length(labels), 10)\n",
    "for (i,l) in enumerate(labels)\n",
    "    one_hot_labels[i,l+1] = 1.0\n",
    "end\n",
    "labels = one_hot_labels\n",
    "\n",
    "test_images = reshape(test_x, (size(test_x)[end], 28*28)) ./ 255.0\n",
    "test_labels = zeros((length(test_y),10))\n",
    "\n",
    "for (i,l) in enumerate(test_y)\n",
    "    test_labels[i,l+1] = 1.0\n",
    "end\n",
    "\n",
    "using Random\n",
    "Random.seed!(1)\n",
    "\n",
    "\n",
    "relu(x) = x > 0 ? x : 0\n",
    "relu2deriv(x) = x > 0 ? 1 : 0\n",
    "\n",
    "alpha, iterations, hidden_size, pixels_per_image, num_labels = (0.005, 350, 40, 784, 10)\n",
    "\n",
    "weights_0_1 = 0.2 .* rand(pixels_per_image,hidden_size) .- 0.1\n",
    "weights_1_2 = 0.2 .* rand(hidden_size,num_labels) .- 0.1\n",
    "\n",
    "for j = 1:iterations\n",
    "    Error, Correct_cnt = (0.0, 0)\n",
    "    for i = 1:size(images)[1]\n",
    "        layer_0 = images[i,:]\n",
    "        layer_1 = relu.(layer_0' * weights_0_1)\n",
    "        layer_2 = layer_1 * weights_1_2\n",
    "\n",
    "        Error += sum((labels[i,:]' .- layer_2) .^ 2)\n",
    "        Correct_cnt += Int(argmax(layer_2) == argmax(labels[i,:]'))\n",
    "\n",
    "        layer_2_delta = (labels[i]' .- layer_2)\n",
    "        layer_1_delta = (layer_2_delta * weights_1_2') .* relu2deriv.(layer_1)\n",
    "        weights_1_2 += alpha .* layer_1' * layer_2_delta\n",
    "        weights_0_1 += alpha .* layer_0 * layer_1_delta\n",
    "    end\n",
    "    print(\"I: $(j) Train error: $(Error/size(images)[1])% Train accuracy: $(Correct_cnt/size(images)[1])   \\r\")\n",
    "    \n",
    "    if ((j % 10 == 0) || (j == iterations))\n",
    "        println()\n",
    "        Error, Correct_cnt = (0.0, 0)\n",
    "        for i = 1:size(test_images)[1]\n",
    "        \n",
    "            layer_0 = test_images[i,:]\n",
    "            layer_1 = relu.(layer_0' * weights_0_1)\n",
    "            layer_2 = layer_1 * weights_1_2\n",
    "\n",
    "            Error += sum((test_labels[i,:]' .- layer_2) .^ 2)\n",
    "            Correct_cnt += Int(argmax(layer_2) == argmax(test_labels[i,:]'))\n",
    "        end\n",
    "        print(\"Test-Err:: $(Error/size(test_images)[1])% Test-Acc:: $(Correct_cnt/size(test_images)[1]) \\r\")\n",
    "        println()\n",
    "    end\n",
    "end"
   ]
  },
  {
   "cell_type": "markdown",
   "metadata": {},
   "source": [
    "# Dropout In Code"
   ]
  },
  {
   "cell_type": "code",
   "execution_count": null,
   "metadata": {},
   "outputs": [],
   "source": [
    "i = 1\n",
    "layer_0 = images[i,:]\n",
    "dropout_mask = np.random.randint(2,size=layer_1.shape)\n",
    "        layer_1 = relu.(layer_0' * weights_0_1)\n",
    "        layer_2 = layer_1 * weights_1_2\n",
    "\n",
    "        Error += sum((labels[i,:]' .- layer_2) .^ 2)\n",
    "        Correct_cnt += Int(argmax(layer_2) == argmax(labels[i,:]'))\n",
    "\n",
    "        layer_2_delta = (labels[i]' .- layer_2)\n",
    "        layer_1_delta = (layer_2_delta * weights_1_2') .* relu2deriv.(layer_1)\n",
    "        weights_1_2 += alpha .* layer_1' * layer_2_delta\n",
    "        weights_0_1 += alpha .* layer_0 * layer_1_delta\n",
    "\n",
    "layer_0 = images[i:i+1]\n",
    "dropout_mask = np.random.randint(2,size=layer_1.shape)\n",
    "\n",
    "layer_1 *= dropout_mask * 2\n",
    "layer_2 = np.dot(layer_1, weights_1_2)\n",
    "\n",
    "error += np.sum((labels[i:i+1] - layer_2) ** 2)\n",
    "\n",
    "correct_cnt += int(np.argmax(layer_2) == np.argmax(labels[i+i+1]))\n",
    "\n",
    "layer_2_delta = (labels[i:i+1] - layer_2)\n",
    "layer_1_delta = layer_2_delta.dot(weights_1_2.T) * relu2deriv(layer_1)\n",
    "\n",
    "layer_1_delta *= dropout_mask\n",
    "\n",
    "weights_1_2 += alpha * layer_1.T.dot(layer_2_delta)\n",
    "weights_0_1 += alpha * layer_0.T.dot(layer_1_delta)"
   ]
  },
  {
   "cell_type": "code",
   "execution_count": 75,
   "metadata": {},
   "outputs": [
    {
     "data": {
      "text/plain": [
       "1×40 Array{Float64,2}:\n",
       " 0.0  0.0125772  0.0290307  0.130989  …  0.0787766  -0.0470649  0.0"
      ]
     },
     "execution_count": 75,
     "metadata": {},
     "output_type": "execute_result"
    }
   ],
   "source": [
    "layer_0 = images[1,:]\n",
    "layer_1 = relu.(layer_0' * weights_0_1)\n",
    "layer_2 = layer_1 * weights_1_2\n",
    "Error, Correct_cnt = (0.0, 0)\n",
    "Error += sum((labels[1,:]' .- layer_2) .^ 2)\n",
    "Correct_cnt += Int(argmax(layer_2) == argmax(labels[1,:]'))\n",
    "layer_2_delta = (labels[1,:]' .- layer_2)\n",
    "layer_1_delta = (layer_2_delta * weights_1_2') .* relu2deriv.(layer_1)"
   ]
  },
  {
   "cell_type": "code",
   "execution_count": 76,
   "metadata": {},
   "outputs": [
    {
     "data": {
      "text/plain": [
       "0.9787734709551295"
      ]
     },
     "execution_count": 76,
     "metadata": {},
     "output_type": "execute_result"
    }
   ],
   "source": [
    "Error"
   ]
  },
  {
   "cell_type": "code",
   "execution_count": null,
   "metadata": {},
   "outputs": [],
   "source": [
    "layer_1_delta = layer_2_delta.dot(weights_1_2.T)\\\n",
    "                                    * relu2deriv(layer_1)"
   ]
  },
  {
   "cell_type": "code",
   "execution_count": 72,
   "metadata": {
    "scrolled": true
   },
   "outputs": [
    {
     "data": {
      "text/plain": [
       "(1, 40)"
      ]
     },
     "execution_count": 72,
     "metadata": {},
     "output_type": "execute_result"
    }
   ],
   "source": [
    "size(layer_1_delta)\n",
    "\n",
    "# for i,l in enumerate(y_test):\n",
    "#     test_labels[i][l] = 1\n",
    "    \n",
    "# np.random.seed(1)\n",
    "# relu = lambda x:(x>=0) * x # returns x if x > 0, return 0 otherwise\n",
    "# relu2deriv = lambda x: x>=0 # returns 1 for input > 0, return 0 otherwise\n",
    "# alpha, iterations, hidden_size, pixels_per_image, num_labels = (0.005, 350, 40, 784, 10)"
   ]
  },
  {
   "cell_type": "code",
   "execution_count": 43,
   "metadata": {},
   "outputs": [
    {
     "data": {
      "text/plain": [
       "10×1 LinearAlgebra.Adjoint{Any,Array{Any,2}}:\n",
       "  0.00019057039418527043\n",
       " -0.0004017092607755022\n",
       "  3.906512950117453e-6\n",
       "  0.00021406501181451382\n",
       "  3.872879737752826e-6\n",
       "  0.0005775486359465876\n",
       " -1.8004695510317768e-5\n",
       " -0.0004627779056668574\n",
       "  0.00011401794918601783\n",
       "  0.0007726419149043299"
      ]
     },
     "execution_count": 43,
     "metadata": {},
     "output_type": "execute_result"
    }
   ],
   "source": [
    "layer_2'"
   ]
  },
  {
   "cell_type": "code",
   "execution_count": null,
   "metadata": {},
   "outputs": [],
   "source": [
    "images, labels = (x_train[0:1000].reshape(1000,28*28) / 255, y_train[0:1000])"
   ]
  }
 ],
 "metadata": {
  "kernelspec": {
   "display_name": "Julia 1.4.0",
   "language": "julia",
   "name": "julia-1.4"
  },
  "language_info": {
   "file_extension": ".jl",
   "mimetype": "application/julia",
   "name": "julia",
   "version": "1.4.0"
  }
 },
 "nbformat": 4,
 "nbformat_minor": 2
}
